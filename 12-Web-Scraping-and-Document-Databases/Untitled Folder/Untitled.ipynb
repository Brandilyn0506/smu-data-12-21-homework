{
 "cells": [
  {
   "cell_type": "code",
   "execution_count": null,
   "id": "84f7407f",
   "metadata": {},
   "outputs": [],
   "source": [
    "import splinter"
   ]
  },
  {
   "cell_type": "code",
   "execution_count": null,
   "id": "dc517110",
   "metadata": {},
   "outputs": [],
   "source": [
    "set up splinter"
   ]
  },
  {
   "cell_type": "code",
   "execution_count": null,
   "id": "e4b7f00d",
   "metadata": {},
   "outputs": [],
   "source": [
    "browser - exxecutable"
   ]
  },
  {
   "cell_type": "code",
   "execution_count": null,
   "id": "2fd56068",
   "metadata": {},
   "outputs": [],
   "source": [
    "url\n",
    "browser visit"
   ]
  },
  {
   "cell_type": "code",
   "execution_count": null,
   "id": "5ca1635a",
   "metadata": {},
   "outputs": [],
   "source": [
    "html - \n",
    "soup -\n"
   ]
  },
  {
   "cell_type": "code",
   "execution_count": null,
   "id": "7be173d0",
   "metadata": {},
   "outputs": [],
   "source": [
    "news title = soup.find_all(\"div,{class: \"conten\"}\")[0].text"
   ]
  },
  {
   "cell_type": "code",
   "execution_count": null,
   "id": "73e1d811",
   "metadata": {},
   "outputs": [],
   "source": [
    "newsp = soup.find_all(\"div,{class: \"teaser body\"}\")[0].text"
   ]
  },
  {
   "cell_type": "code",
   "execution_count": null,
   "id": "90b92078",
   "metadata": {},
   "outputs": [],
   "source": [
    "find image\n",
    "url =\n",
    "browser.visit(url)\n",
    "\n",
    "title and image \n",
    "clikc on it"
   ]
  },
  {
   "cell_type": "code",
   "execution_count": null,
   "id": "59684568",
   "metadata": {},
   "outputs": [],
   "source": [
    "we want title - div content title\n",
    "dive class article teaser body"
   ]
  }
 ],
 "metadata": {
  "kernelspec": {
   "display_name": "Python 3 (ipykernel)",
   "language": "python",
   "name": "python3"
  },
  "language_info": {
   "codemirror_mode": {
    "name": "ipython",
    "version": 3
   },
   "file_extension": ".py",
   "mimetype": "text/x-python",
   "name": "python",
   "nbconvert_exporter": "python",
   "pygments_lexer": "ipython3",
   "version": "3.9.7"
  }
 },
 "nbformat": 4,
 "nbformat_minor": 5
}
